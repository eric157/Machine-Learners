{
 "cells": [
  {
   "cell_type": "code",
   "execution_count": 1,
   "metadata": {},
   "outputs": [],
   "source": [
    "import numpy as np\n",
    "import pandas as pd\n",
    "import re\n",
    "from sklearn.model_selection import train_test_split, GridSearchCV\n",
    "from sklearn.preprocessing import  LabelEncoder,OneHotEncoder\n",
    "from sklearn.metrics import accuracy_score, classification_report\n",
    "from sklearn.ensemble import RandomForestClassifier\n",
    "from sklearn.preprocessing import LabelEncoder"
   ]
  },
  {
   "cell_type": "code",
   "execution_count": 2,
   "metadata": {},
   "outputs": [
    {
     "name": "stderr",
     "output_type": "stream",
     "text": [
      "C:\\Users\\ujjwa_n18433z\\AppData\\Local\\Temp\\ipykernel_18360\\1528044309.py:1: DtypeWarning: Columns (26) have mixed types. Specify dtype option on import or set low_memory=False.\n",
      "  df=pd.read_csv('creditScoreClassification.csv')\n"
     ]
    }
   ],
   "source": [
    "df=pd.read_csv('creditScoreClassification.csv')"
   ]
  },
  {
   "cell_type": "code",
   "execution_count": 3,
   "metadata": {},
   "outputs": [],
   "source": [
    "# 4\n",
    "df['Age'] = df['Age'].replace({'invalid': None})\n",
    "df['Age'] = pd.to_numeric(df['Age'], errors='coerce')\n",
    "df.loc[(df['Age'] < 0) | (df['Age'] > 120), 'Age'] = None\n",
    "median_age = df['Age'].median()\n",
    "df['Age'] = df['Age'].fillna(median_age)"
   ]
  },
  {
   "cell_type": "code",
   "execution_count": 4,
   "metadata": {},
   "outputs": [
    {
     "name": "stderr",
     "output_type": "stream",
     "text": [
      "C:\\Users\\ujjwa_n18433z\\AppData\\Local\\Temp\\ipykernel_18360\\300112647.py:3: FutureWarning: Series.fillna with 'method' is deprecated and will raise in a future version. Use obj.ffill() or obj.bfill() instead.\n",
      "  df['Occupation'] = df['Occupation'].fillna(method='bfill')\n"
     ]
    }
   ],
   "source": [
    "df['Occupation'] = df['Occupation'].replace('_', np.nan)\n",
    "df['Occupation'] = df.groupby('Name')['Occupation'].ffill()\n",
    "df['Occupation'] = df['Occupation'].fillna(method='bfill')\n",
    "df = df.reset_index(drop=True)"
   ]
  },
  {
   "cell_type": "code",
   "execution_count": 5,
   "metadata": {},
   "outputs": [
    {
     "data": {
      "text/plain": [
       "Annual_Income\n",
       "17816.75       16\n",
       "22434.16       16\n",
       "40341.16       16\n",
       "17273.83       16\n",
       "109945.32      16\n",
       "               ..\n",
       "17079092.00     1\n",
       "1910572.00      1\n",
       "20179076.00     1\n",
       "7980216.00      1\n",
       "8299495.00      1\n",
       "Name: count, Length: 13487, dtype: int64"
      ]
     },
     "execution_count": 5,
     "metadata": {},
     "output_type": "execute_result"
    }
   ],
   "source": [
    "df['Annual_Income'] = df['Annual_Income'].astype(str).str.replace('_', '', regex=True)\n",
    "df['Annual_Income'] = pd.to_numeric(df['Annual_Income'], errors='coerce')\n",
    "df['Annual_Income'] = df['Annual_Income'].apply(lambda x: np.nan if x <= 0 else x)\n",
    "df = df.reset_index(drop=True)\n",
    "df['Annual_Income'].value_counts()"
   ]
  },
  {
   "cell_type": "code",
   "execution_count": 6,
   "metadata": {},
   "outputs": [],
   "source": [
    "df['Monthly_Inhand_Salary'] = df['Monthly_Inhand_Salary'].astype(str).str.replace('_', '', regex=True)\n",
    "df['Monthly_Inhand_Salary'] = pd.to_numeric(df['Monthly_Inhand_Salary'], errors='coerce')\n",
    "df['Monthly_Inhand_Salary'] = df['Monthly_Inhand_Salary'].apply(lambda x: np.nan if x <= 0 else x)\n",
    "df['Monthly_Inhand_Salary'] = df.groupby('Name')['Monthly_Inhand_Salary'].transform(lambda x: x.fillna(x.mean()))\n",
    "df['Monthly_Inhand_Salary'] = df['Monthly_Inhand_Salary'].fillna(df['Monthly_Inhand_Salary'].mean())"
   ]
  },
  {
   "cell_type": "code",
   "execution_count": 7,
   "metadata": {},
   "outputs": [],
   "source": [
    "df['Outstanding_Debt'] = df['Outstanding_Debt'].replace({'nan': None, '!': None, '_': None})\n",
    "df['Outstanding_Debt'] = pd.to_numeric(df['Outstanding_Debt'], errors='coerce')\n",
    "median_value = df['Outstanding_Debt'].median()\n",
    "df['Outstanding_Debt'] = df['Outstanding_Debt'].fillna(median_value)"
   ]
  },
  {
   "cell_type": "code",
   "execution_count": 8,
   "metadata": {},
   "outputs": [],
   "source": [
    "df['Num_of_Loan'] = df['Num_of_Loan'].replace({'nan': None, '!': None, '_': None})\n",
    "df['Num_of_Loan'] = pd.to_numeric(df['Num_of_Loan'], errors='coerce')\n",
    "median_value = df['Num_of_Loan'].median()\n",
    "df['Num_of_Loan'] = df['Num_of_Loan'].fillna(median_value)"
   ]
  },
  {
   "cell_type": "code",
   "execution_count": 9,
   "metadata": {},
   "outputs": [],
   "source": [
    "df['Changed_Credit_Limit'] = df['Changed_Credit_Limit'].replace({'nan': None, '!': None, '_': None})\n",
    "df['Changed_Credit_Limit'] = pd.to_numeric(df['Changed_Credit_Limit'], errors='coerce')\n",
    "median_value = df['Changed_Credit_Limit'].median()\n",
    "df['Changed_Credit_Limit'] = df['Changed_Credit_Limit'].fillna(median_value)"
   ]
  },
  {
   "cell_type": "code",
   "execution_count": 10,
   "metadata": {},
   "outputs": [],
   "source": [
    "df['Total_EMI_per_month']=df['Total_EMI_per_month'].astype('float32')"
   ]
  },
  {
   "cell_type": "code",
   "execution_count": 11,
   "metadata": {},
   "outputs": [],
   "source": [
    "def extract_float(value):\n",
    "    match = re.match(r'[-+]?\\d*\\.\\d+|[-+]?\\d+', str(value)) \n",
    "    return float(match.group()) if match else None\n",
    "\n",
    "def extract_monthly_balance(df, column_name='Monthly_Balance'):\n",
    "    extracted_balance = df[column_name].apply(extract_float).astype('float32')\n",
    "    return extracted_balance\n",
    "df['Monthly_Balance']=extract_monthly_balance(df)"
   ]
  },
  {
   "cell_type": "code",
   "execution_count": 12,
   "metadata": {},
   "outputs": [],
   "source": [
    "df['Amount_invested_monthly']=extract_monthly_balance(df)\n",
    "df['Payment_of_Min_Amount']=extract_monthly_balance(df)"
   ]
  },
  {
   "cell_type": "code",
   "execution_count": 13,
   "metadata": {},
   "outputs": [],
   "source": [
    "def extract_years_months(input_string):\n",
    "    if pd.isna(input_string):\n",
    "        return 0, 0  \n",
    "    input_string = str(input_string) \n",
    "    year_match = re.search(r'(\\d+)\\s*Years?', input_string)\n",
    "    month_match = re.search(r'(\\d+)\\s*Months?', input_string)\n",
    "\n",
    "    years = int(year_match.group(1)) if year_match else 0\n",
    "    months = int(month_match.group(1)) if month_match else 0\n",
    "    \n",
    "    return years, months\n",
    "def extract_years_months_from_column(df, column_name):\n",
    "\n",
    "\n",
    "\n",
    "    extracted = df[column_name].apply(extract_years_months)\n",
    "    \n",
    "    years_series = extracted.apply(lambda x: x[0])\n",
    "    months_series = extracted.apply(lambda x: x[1])\n",
    "    \n",
    "    return years_series, months_series\n",
    "years, months = extract_years_months_from_column(df, 'Credit_History_Age')"
   ]
  },
  {
   "cell_type": "code",
   "execution_count": 14,
   "metadata": {},
   "outputs": [],
   "source": [
    "df['Credit_History_Age_Year']=years\n",
    "df['Credit_History_Age_month']=months"
   ]
  },
  {
   "cell_type": "code",
   "execution_count": 15,
   "metadata": {},
   "outputs": [],
   "source": [
    "df=df.drop(['Credit_History_Age','SSN','ID', 'Customer_ID','Name','Type_of_Loan'],axis=1)"
   ]
  },
  {
   "cell_type": "code",
   "execution_count": 16,
   "metadata": {},
   "outputs": [],
   "source": [
    "def convert_object_columns_to_float(df):\n",
    "    object_cols = [ 'Age',  'Annual_Income', 'Monthly_Inhand_Salary',\n",
    "       'Num_Bank_Accounts', 'Num_Credit_Card', 'Interest_Rate', 'Num_of_Loan',\n",
    "        'Delay_from_due_date', 'Num_of_Delayed_Payment',\n",
    "       'Changed_Credit_Limit', 'Num_Credit_Inquiries', \n",
    "       'Outstanding_Debt', 'Credit_Utilization_Ratio', 'Payment_of_Min_Amount',\n",
    "       'Total_EMI_per_month', 'Amount_invested_monthly',\n",
    "       'Monthly_Balance',  'Credit_History_Age_Year',\n",
    "       'Credit_History_Age_month']\n",
    "    \n",
    "    for col in object_cols:\n",
    "        df[col] = pd.to_numeric(df[col], errors='coerce')\n",
    "        median_value = df[col].median()\n",
    "        df[col] = df[col].fillna(median_value)\n",
    "    return df\n",
    "df=convert_object_columns_to_float(df)"
   ]
  },
  {
   "cell_type": "code",
   "execution_count": 17,
   "metadata": {},
   "outputs": [
    {
     "data": {
      "text/html": [
       "<div>\n",
       "<style scoped>\n",
       "    .dataframe tbody tr th:only-of-type {\n",
       "        vertical-align: middle;\n",
       "    }\n",
       "\n",
       "    .dataframe tbody tr th {\n",
       "        vertical-align: top;\n",
       "    }\n",
       "\n",
       "    .dataframe thead th {\n",
       "        text-align: right;\n",
       "    }\n",
       "</style>\n",
       "<table border=\"1\" class=\"dataframe\">\n",
       "  <thead>\n",
       "    <tr style=\"text-align: right;\">\n",
       "      <th></th>\n",
       "      <th>Month</th>\n",
       "      <th>Age</th>\n",
       "      <th>Occupation</th>\n",
       "      <th>Annual_Income</th>\n",
       "      <th>Monthly_Inhand_Salary</th>\n",
       "      <th>Num_Bank_Accounts</th>\n",
       "      <th>Num_Credit_Card</th>\n",
       "      <th>Interest_Rate</th>\n",
       "      <th>Num_of_Loan</th>\n",
       "      <th>Delay_from_due_date</th>\n",
       "      <th>...</th>\n",
       "      <th>Outstanding_Debt</th>\n",
       "      <th>Credit_Utilization_Ratio</th>\n",
       "      <th>Payment_of_Min_Amount</th>\n",
       "      <th>Total_EMI_per_month</th>\n",
       "      <th>Amount_invested_monthly</th>\n",
       "      <th>Payment_Behaviour</th>\n",
       "      <th>Monthly_Balance</th>\n",
       "      <th>Credit_Score</th>\n",
       "      <th>Credit_History_Age_Year</th>\n",
       "      <th>Credit_History_Age_month</th>\n",
       "    </tr>\n",
       "  </thead>\n",
       "  <tbody>\n",
       "    <tr>\n",
       "      <th>0</th>\n",
       "      <td>January</td>\n",
       "      <td>23.0</td>\n",
       "      <td>Scientist</td>\n",
       "      <td>19114.12</td>\n",
       "      <td>1824.843333</td>\n",
       "      <td>3</td>\n",
       "      <td>4</td>\n",
       "      <td>3</td>\n",
       "      <td>4.0</td>\n",
       "      <td>3</td>\n",
       "      <td>...</td>\n",
       "      <td>809.98</td>\n",
       "      <td>26.822620</td>\n",
       "      <td>312.494080</td>\n",
       "      <td>49.574947</td>\n",
       "      <td>312.494080</td>\n",
       "      <td>High_spent_Small_value_payments</td>\n",
       "      <td>312.494080</td>\n",
       "      <td>Good</td>\n",
       "      <td>22</td>\n",
       "      <td>1</td>\n",
       "    </tr>\n",
       "    <tr>\n",
       "      <th>1</th>\n",
       "      <td>February</td>\n",
       "      <td>23.0</td>\n",
       "      <td>Scientist</td>\n",
       "      <td>19114.12</td>\n",
       "      <td>1824.843333</td>\n",
       "      <td>3</td>\n",
       "      <td>4</td>\n",
       "      <td>3</td>\n",
       "      <td>4.0</td>\n",
       "      <td>-1</td>\n",
       "      <td>...</td>\n",
       "      <td>809.98</td>\n",
       "      <td>31.944960</td>\n",
       "      <td>284.629150</td>\n",
       "      <td>49.574947</td>\n",
       "      <td>284.629150</td>\n",
       "      <td>Low_spent_Large_value_payments</td>\n",
       "      <td>284.629150</td>\n",
       "      <td>Good</td>\n",
       "      <td>0</td>\n",
       "      <td>0</td>\n",
       "    </tr>\n",
       "    <tr>\n",
       "      <th>2</th>\n",
       "      <td>March</td>\n",
       "      <td>33.0</td>\n",
       "      <td>Scientist</td>\n",
       "      <td>19114.12</td>\n",
       "      <td>1824.843333</td>\n",
       "      <td>3</td>\n",
       "      <td>4</td>\n",
       "      <td>3</td>\n",
       "      <td>4.0</td>\n",
       "      <td>3</td>\n",
       "      <td>...</td>\n",
       "      <td>809.98</td>\n",
       "      <td>28.609352</td>\n",
       "      <td>331.209869</td>\n",
       "      <td>49.574947</td>\n",
       "      <td>331.209869</td>\n",
       "      <td>Low_spent_Medium_value_payments</td>\n",
       "      <td>331.209869</td>\n",
       "      <td>Good</td>\n",
       "      <td>22</td>\n",
       "      <td>3</td>\n",
       "    </tr>\n",
       "    <tr>\n",
       "      <th>3</th>\n",
       "      <td>April</td>\n",
       "      <td>23.0</td>\n",
       "      <td>Scientist</td>\n",
       "      <td>19114.12</td>\n",
       "      <td>1824.843333</td>\n",
       "      <td>3</td>\n",
       "      <td>4</td>\n",
       "      <td>3</td>\n",
       "      <td>4.0</td>\n",
       "      <td>5</td>\n",
       "      <td>...</td>\n",
       "      <td>809.98</td>\n",
       "      <td>31.377862</td>\n",
       "      <td>223.451309</td>\n",
       "      <td>49.574947</td>\n",
       "      <td>223.451309</td>\n",
       "      <td>Low_spent_Small_value_payments</td>\n",
       "      <td>223.451309</td>\n",
       "      <td>Good</td>\n",
       "      <td>22</td>\n",
       "      <td>4</td>\n",
       "    </tr>\n",
       "    <tr>\n",
       "      <th>4</th>\n",
       "      <td>May</td>\n",
       "      <td>23.0</td>\n",
       "      <td>Scientist</td>\n",
       "      <td>19114.12</td>\n",
       "      <td>1824.843333</td>\n",
       "      <td>3</td>\n",
       "      <td>4</td>\n",
       "      <td>3</td>\n",
       "      <td>4.0</td>\n",
       "      <td>6</td>\n",
       "      <td>...</td>\n",
       "      <td>809.98</td>\n",
       "      <td>24.797347</td>\n",
       "      <td>341.489227</td>\n",
       "      <td>49.574947</td>\n",
       "      <td>341.489227</td>\n",
       "      <td>High_spent_Medium_value_payments</td>\n",
       "      <td>341.489227</td>\n",
       "      <td>Good</td>\n",
       "      <td>22</td>\n",
       "      <td>5</td>\n",
       "    </tr>\n",
       "  </tbody>\n",
       "</table>\n",
       "<p>5 rows × 24 columns</p>\n",
       "</div>"
      ],
      "text/plain": [
       "      Month   Age Occupation  Annual_Income  Monthly_Inhand_Salary  \\\n",
       "0   January  23.0  Scientist       19114.12            1824.843333   \n",
       "1  February  23.0  Scientist       19114.12            1824.843333   \n",
       "2     March  33.0  Scientist       19114.12            1824.843333   \n",
       "3     April  23.0  Scientist       19114.12            1824.843333   \n",
       "4       May  23.0  Scientist       19114.12            1824.843333   \n",
       "\n",
       "   Num_Bank_Accounts  Num_Credit_Card  Interest_Rate  Num_of_Loan  \\\n",
       "0                  3                4              3          4.0   \n",
       "1                  3                4              3          4.0   \n",
       "2                  3                4              3          4.0   \n",
       "3                  3                4              3          4.0   \n",
       "4                  3                4              3          4.0   \n",
       "\n",
       "   Delay_from_due_date  ...  Outstanding_Debt  Credit_Utilization_Ratio  \\\n",
       "0                    3  ...            809.98                 26.822620   \n",
       "1                   -1  ...            809.98                 31.944960   \n",
       "2                    3  ...            809.98                 28.609352   \n",
       "3                    5  ...            809.98                 31.377862   \n",
       "4                    6  ...            809.98                 24.797347   \n",
       "\n",
       "   Payment_of_Min_Amount Total_EMI_per_month  Amount_invested_monthly  \\\n",
       "0             312.494080           49.574947               312.494080   \n",
       "1             284.629150           49.574947               284.629150   \n",
       "2             331.209869           49.574947               331.209869   \n",
       "3             223.451309           49.574947               223.451309   \n",
       "4             341.489227           49.574947               341.489227   \n",
       "\n",
       "                  Payment_Behaviour  Monthly_Balance  Credit_Score  \\\n",
       "0   High_spent_Small_value_payments       312.494080          Good   \n",
       "1    Low_spent_Large_value_payments       284.629150          Good   \n",
       "2   Low_spent_Medium_value_payments       331.209869          Good   \n",
       "3    Low_spent_Small_value_payments       223.451309          Good   \n",
       "4  High_spent_Medium_value_payments       341.489227          Good   \n",
       "\n",
       "   Credit_History_Age_Year Credit_History_Age_month  \n",
       "0                       22                        1  \n",
       "1                        0                        0  \n",
       "2                       22                        3  \n",
       "3                       22                        4  \n",
       "4                       22                        5  \n",
       "\n",
       "[5 rows x 24 columns]"
      ]
     },
     "execution_count": 17,
     "metadata": {},
     "output_type": "execute_result"
    }
   ],
   "source": [
    "df.head()"
   ]
  },
  {
   "cell_type": "code",
   "execution_count": 18,
   "metadata": {},
   "outputs": [
    {
     "name": "stdout",
     "output_type": "stream",
     "text": [
      "       Month   Age  Occupation  Annual_Income  Monthly_Inhand_Salary  \\\n",
      "0          3  23.0          12       19114.12            1824.843333   \n",
      "1          2  23.0          12       19114.12            1824.843333   \n",
      "2          6  33.0          12       19114.12            1824.843333   \n",
      "3          0  23.0          12       19114.12            1824.843333   \n",
      "4          7  23.0          12       19114.12            1824.843333   \n",
      "...      ...   ...         ...            ...                    ...   \n",
      "99995      0  25.0           9       39628.99            3359.415833   \n",
      "99996      7  25.0           9       39628.99            3359.415833   \n",
      "99997      5  25.0           9       39628.99            3359.415833   \n",
      "99998      4  25.0           9       39628.99            3359.415833   \n",
      "99999      1  25.0           9       39628.99            3359.415833   \n",
      "\n",
      "       Num_Bank_Accounts  Num_Credit_Card  Interest_Rate  Num_of_Loan  \\\n",
      "0                      3                4              3          4.0   \n",
      "1                      3                4              3          4.0   \n",
      "2                      3                4              3          4.0   \n",
      "3                      3                4              3          4.0   \n",
      "4                      3                4              3          4.0   \n",
      "...                  ...              ...            ...          ...   \n",
      "99995                  4                6              7          2.0   \n",
      "99996                  4                6              7          2.0   \n",
      "99997                  4                6           5729          2.0   \n",
      "99998                  4                6              7          2.0   \n",
      "99999                  4                6              7          2.0   \n",
      "\n",
      "       Delay_from_due_date  ...  Outstanding_Debt  Credit_Utilization_Ratio  \\\n",
      "0                        3  ...            809.98                 26.822620   \n",
      "1                       -1  ...            809.98                 31.944960   \n",
      "2                        3  ...            809.98                 28.609352   \n",
      "3                        5  ...            809.98                 31.377862   \n",
      "4                        6  ...            809.98                 24.797347   \n",
      "...                    ...  ...               ...                       ...   \n",
      "99995                   23  ...            502.38                 34.663572   \n",
      "99996                   18  ...            502.38                 40.565631   \n",
      "99997                   27  ...            502.38                 41.255522   \n",
      "99998                   20  ...            502.38                 33.638208   \n",
      "99999                   18  ...            502.38                 34.192463   \n",
      "\n",
      "       Payment_of_Min_Amount  Total_EMI_per_month  Amount_invested_monthly  \\\n",
      "0                 312.494080            49.574947               312.494080   \n",
      "1                 284.629150            49.574947               284.629150   \n",
      "2                 331.209869            49.574947               331.209869   \n",
      "3                 223.451309            49.574947               223.451309   \n",
      "4                 341.489227            49.574947               341.489227   \n",
      "...                      ...                  ...                      ...   \n",
      "99995             479.866241            35.104023               479.866241   \n",
      "99996             496.651611            35.104023               496.651611   \n",
      "99997             516.809082            35.104023               516.809082   \n",
      "99998             319.164978            35.104023               319.164978   \n",
      "99999             393.673706            35.104023               393.673706   \n",
      "\n",
      "       Payment_Behaviour  Monthly_Balance  Credit_Score  \\\n",
      "0                      3       312.494080          Good   \n",
      "1                      4       284.629150          Good   \n",
      "2                      5       331.209869          Good   \n",
      "3                      6       223.451309          Good   \n",
      "4                      2       341.489227          Good   \n",
      "...                  ...              ...           ...   \n",
      "99995                  1       479.866241          Poor   \n",
      "99996                  2       496.651611          Poor   \n",
      "99997                  1       516.809082          Poor   \n",
      "99998                  4       319.164978      Standard   \n",
      "99999                  0       393.673706          Poor   \n",
      "\n",
      "       Credit_History_Age_Year  Credit_History_Age_month  \n",
      "0                           22                         1  \n",
      "1                            0                         0  \n",
      "2                           22                         3  \n",
      "3                           22                         4  \n",
      "4                           22                         5  \n",
      "...                        ...                       ...  \n",
      "99995                       31                         6  \n",
      "99996                       31                         7  \n",
      "99997                       31                         8  \n",
      "99998                       31                         9  \n",
      "99999                       31                        10  \n",
      "\n",
      "[100000 rows x 24 columns]\n"
     ]
    }
   ],
   "source": [
    "columns_to_encode = ['Payment_Behaviour', 'Occupation', 'Month','Credit_Mix']\n",
    " \n",
    "label_encoder = LabelEncoder()\n",
    "\n",
    "for column in columns_to_encode:\n",
    "    df[column] = label_encoder.fit_transform(df[column])\n",
    "\n",
    "print(df)"
   ]
  },
  {
   "cell_type": "code",
   "execution_count": 19,
   "metadata": {},
   "outputs": [
    {
     "data": {
      "text/plain": [
       "Index(['Month', 'Age', 'Occupation', 'Annual_Income', 'Monthly_Inhand_Salary',\n",
       "       'Num_Bank_Accounts', 'Num_Credit_Card', 'Interest_Rate', 'Num_of_Loan',\n",
       "       'Delay_from_due_date', 'Num_of_Delayed_Payment', 'Changed_Credit_Limit',\n",
       "       'Num_Credit_Inquiries', 'Credit_Mix', 'Outstanding_Debt',\n",
       "       'Credit_Utilization_Ratio', 'Payment_of_Min_Amount',\n",
       "       'Total_EMI_per_month', 'Amount_invested_monthly', 'Payment_Behaviour',\n",
       "       'Monthly_Balance', 'Credit_Score', 'Credit_History_Age_Year',\n",
       "       'Credit_History_Age_month'],\n",
       "      dtype='object')"
      ]
     },
     "execution_count": 19,
     "metadata": {},
     "output_type": "execute_result"
    }
   ],
   "source": [
    "df.columns"
   ]
  },
  {
   "cell_type": "code",
   "execution_count": 20,
   "metadata": {},
   "outputs": [
    {
     "name": "stdout",
     "output_type": "stream",
     "text": [
      "<class 'pandas.core.frame.DataFrame'>\n",
      "RangeIndex: 100000 entries, 0 to 99999\n",
      "Data columns (total 24 columns):\n",
      " #   Column                    Non-Null Count   Dtype  \n",
      "---  ------                    --------------   -----  \n",
      " 0   Month                     100000 non-null  int32  \n",
      " 1   Age                       100000 non-null  float64\n",
      " 2   Occupation                100000 non-null  int32  \n",
      " 3   Annual_Income             100000 non-null  float64\n",
      " 4   Monthly_Inhand_Salary     100000 non-null  float64\n",
      " 5   Num_Bank_Accounts         100000 non-null  int64  \n",
      " 6   Num_Credit_Card           100000 non-null  int64  \n",
      " 7   Interest_Rate             100000 non-null  int64  \n",
      " 8   Num_of_Loan               100000 non-null  float64\n",
      " 9   Delay_from_due_date       100000 non-null  int64  \n",
      " 10  Num_of_Delayed_Payment    100000 non-null  float64\n",
      " 11  Changed_Credit_Limit      100000 non-null  float64\n",
      " 12  Num_Credit_Inquiries      100000 non-null  float64\n",
      " 13  Credit_Mix                100000 non-null  int32  \n",
      " 14  Outstanding_Debt          100000 non-null  float64\n",
      " 15  Credit_Utilization_Ratio  100000 non-null  float64\n",
      " 16  Payment_of_Min_Amount     100000 non-null  float32\n",
      " 17  Total_EMI_per_month       100000 non-null  float32\n",
      " 18  Amount_invested_monthly   100000 non-null  float32\n",
      " 19  Payment_Behaviour         100000 non-null  int32  \n",
      " 20  Monthly_Balance           100000 non-null  float32\n",
      " 21  Credit_Score              100000 non-null  object \n",
      " 22  Credit_History_Age_Year   100000 non-null  int64  \n",
      " 23  Credit_History_Age_month  100000 non-null  int64  \n",
      "dtypes: float32(4), float64(9), int32(4), int64(6), object(1)\n",
      "memory usage: 15.3+ MB\n"
     ]
    }
   ],
   "source": [
    "df.info()"
   ]
  },
  {
   "cell_type": "code",
   "execution_count": 21,
   "metadata": {},
   "outputs": [],
   "source": [
    "X = df.drop('Credit_Score', axis=1)  # Replace 'target_column' with the actual \n",
    "y = df['Credit_Score']"
   ]
  },
  {
   "cell_type": "code",
   "execution_count": 22,
   "metadata": {},
   "outputs": [],
   "source": [
    "# Label Encoding The target column \n",
    "label_encoder = LabelEncoder()\n",
    "y = label_encoder.fit_transform(y)"
   ]
  },
  {
   "cell_type": "code",
   "execution_count": 23,
   "metadata": {},
   "outputs": [],
   "source": [
    "X_train, X_test, y_train, y_test = train_test_split(X, y, test_size=0.2, random_state=42)"
   ]
  },
  {
   "cell_type": "code",
   "execution_count": 24,
   "metadata": {},
   "outputs": [],
   "source": [
    "param_grid_rf = {\n",
    "    'n_estimators': [200,300],\n",
    "    'max_depth': [ 5,30],\n",
    "    'min_samples_split': [ 10,20]\n",
    "}"
   ]
  },
  {
   "cell_type": "code",
   "execution_count": 25,
   "metadata": {},
   "outputs": [],
   "source": [
    "grid_search = GridSearchCV(RandomForestClassifier(), param_grid_rf, cv=5, n_jobs=-1, verbose=2)"
   ]
  },
  {
   "cell_type": "code",
   "execution_count": 26,
   "metadata": {},
   "outputs": [
    {
     "name": "stdout",
     "output_type": "stream",
     "text": [
      "Fitting 5 folds for each of 8 candidates, totalling 40 fits\n",
      "Best Parameters: {'max_depth': 30, 'min_samples_split': 10, 'n_estimators': 300}\n"
     ]
    }
   ],
   "source": [
    "grid_search.fit(X_train, y_train)\n",
    "\n",
    "# Best parameters found by Grid Search\n",
    "print(f\"Best Parameters: {grid_search.best_params_}\")"
   ]
  },
  {
   "cell_type": "code",
   "execution_count": 27,
   "metadata": {},
   "outputs": [
    {
     "name": "stdout",
     "output_type": "stream",
     "text": [
      "Accuracy: 0.76935\n",
      "Classification Report:\n",
      "              precision    recall  f1-score   support\n",
      "\n",
      "           0       0.70      0.70      0.70      3527\n",
      "           1       0.77      0.76      0.76      5874\n",
      "           2       0.79      0.80      0.80     10599\n",
      "\n",
      "    accuracy                           0.77     20000\n",
      "   macro avg       0.75      0.75      0.75     20000\n",
      "weighted avg       0.77      0.77      0.77     20000\n",
      "\n"
     ]
    }
   ],
   "source": [
    "y_pred = grid_search.predict(X_test)\n",
    "\n",
    "# Evaluating the model\n",
    "print(f\"Accuracy: {accuracy_score(y_test, y_pred)}\")\n",
    "print(f\"Classification Report:\\n{classification_report(y_test, y_pred)}\")"
   ]
  },
  {
   "cell_type": "code",
   "execution_count": null,
   "metadata": {},
   "outputs": [],
   "source": []
  },
  {
   "cell_type": "code",
   "execution_count": null,
   "metadata": {},
   "outputs": [],
   "source": []
  }
 ],
 "metadata": {
  "kernelspec": {
   "display_name": "Python 3",
   "language": "python",
   "name": "python3"
  },
  "language_info": {
   "codemirror_mode": {
    "name": "ipython",
    "version": 3
   },
   "file_extension": ".py",
   "mimetype": "text/x-python",
   "name": "python",
   "nbconvert_exporter": "python",
   "pygments_lexer": "ipython3",
   "version": "3.11.2"
  }
 },
 "nbformat": 4,
 "nbformat_minor": 2
}
