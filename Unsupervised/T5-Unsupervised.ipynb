{
 "cells": [
  {
   "cell_type": "markdown",
   "metadata": {},
   "source": [
    "# **Topic Modeling and Sentiment Analysis over Customer Support data on Twiter**"
   ]
  },
  {
   "cell_type": "markdown",
   "metadata": {},
   "source": [
    "\n",
    "**Group Members:**\n",
    "\n",
    "\n",
    "    \n",
    "\n",
    "\n",
    "\n",
    "\n",
    "\n",
    "1. 202418013 - Darshita Dwivedi\n",
    "2. 202418025 - Kelvi Bhesdadiya\n",
    "3. 202418057 - Eric Thomas\n",
    "4. 202418058 - Ujjwal Bhansali   \n",
    "\n",
    "\n",
    "\n"
   ]
  },
  {
   "cell_type": "code",
   "execution_count": null,
   "metadata": {},
   "outputs": [
    {
     "name": "stderr",
     "output_type": "stream",
     "text": [
      "[nltk_data] Downloading package punkt to\n",
      "[nltk_data]     C:\\Users\\ericp\\AppData\\Roaming\\nltk_data...\n",
      "[nltk_data]   Package punkt is already up-to-date!\n",
      "[nltk_data] Downloading package stopwords to\n",
      "[nltk_data]     C:\\Users\\ericp\\AppData\\Roaming\\nltk_data...\n",
      "[nltk_data]   Package stopwords is already up-to-date!\n",
      "[nltk_data] Downloading package wordnet to\n",
      "[nltk_data]     C:\\Users\\ericp\\AppData\\Roaming\\nltk_data...\n",
      "[nltk_data]   Package wordnet is already up-to-date!\n",
      "[nltk_data] Downloading package averaged_perceptron_tagger to\n",
      "[nltk_data]     C:\\Users\\ericp\\AppData\\Roaming\\nltk_data...\n",
      "[nltk_data]   Package averaged_perceptron_tagger is already up-to-\n",
      "[nltk_data]       date!\n"
     ]
    },
    {
     "data": {
      "text/plain": [
       "True"
      ]
     },
     "execution_count": 1,
     "metadata": {},
     "output_type": "execute_result"
    }
   ],
   "source": [
    "import pandas as pd\n",
    "import numpy as np\n",
    "import re\n",
    "import string\n",
    "from nltk.corpus import stopwords\n",
    "from nltk.corpus import wordnet\n",
    "from nltk.tokenize import word_tokenize\n",
    "from nltk.stem import WordNetLemmatizer\n",
    "from bs4 import BeautifulSoup\n",
    "import nltk\n",
    "from tqdm import tqdm\n",
    "from nltk.sentiment import SentimentIntensityAnalyzer\n",
    "import warnings\n",
    "import matplotlib.pyplot as plt\n",
    "import seaborn as sns\n",
    "from sklearn.feature_extraction.text import TfidfVectorizer\n",
    "from sklearn.decomposition import LatentDirichletAllocation\n",
    "from sklearn.decomposition import TruncatedSVD\n",
    "from gensim.models import LdaModel\n",
    "from gensim.corpora import Dictionary\n",
    "from gensim.models import CoherenceModel\n",
    "from sklearn.decomposition import NMF\n",
    "\n",
    "nltk.download('punkt')\n",
    "nltk.download('stopwords')\n",
    "nltk.download('wordnet')\n",
    "nltk.download('averaged_perceptron_tagger')"
   ]
  },
  {
   "cell_type": "markdown",
   "metadata": {},
   "source": [
    "**The dataset used in this project is sourced from Kaggle: https://www.kaggle.com/datasets/thoughtvector/customer-support-on-twitter**\n"
   ]
  },
  {
   "cell_type": "code",
   "execution_count": 2,
   "metadata": {},
   "outputs": [],
   "source": [
    "df = pd.read_csv('twcs.csv') "
   ]
  },
  {
   "cell_type": "code",
   "execution_count": 3,
   "metadata": {},
   "outputs": [
    {
     "data": {
      "text/html": [
       "<div>\n",
       "<style scoped>\n",
       "    .dataframe tbody tr th:only-of-type {\n",
       "        vertical-align: middle;\n",
       "    }\n",
       "\n",
       "    .dataframe tbody tr th {\n",
       "        vertical-align: top;\n",
       "    }\n",
       "\n",
       "    .dataframe thead th {\n",
       "        text-align: right;\n",
       "    }\n",
       "</style>\n",
       "<table border=\"1\" class=\"dataframe\">\n",
       "  <thead>\n",
       "    <tr style=\"text-align: right;\">\n",
       "      <th></th>\n",
       "      <th>tweet_id</th>\n",
       "      <th>author_id</th>\n",
       "      <th>inbound</th>\n",
       "      <th>created_at</th>\n",
       "      <th>text</th>\n",
       "      <th>response_tweet_id</th>\n",
       "      <th>in_response_to_tweet_id</th>\n",
       "    </tr>\n",
       "  </thead>\n",
       "  <tbody>\n",
       "    <tr>\n",
       "      <th>0</th>\n",
       "      <td>1</td>\n",
       "      <td>sprintcare</td>\n",
       "      <td>False</td>\n",
       "      <td>Tue Oct 31 22:10:47 +0000 2017</td>\n",
       "      <td>@115712 I understand. I would like to assist y...</td>\n",
       "      <td>2</td>\n",
       "      <td>3.0</td>\n",
       "    </tr>\n",
       "    <tr>\n",
       "      <th>1</th>\n",
       "      <td>2</td>\n",
       "      <td>115712</td>\n",
       "      <td>True</td>\n",
       "      <td>Tue Oct 31 22:11:45 +0000 2017</td>\n",
       "      <td>@sprintcare and how do you propose we do that</td>\n",
       "      <td>NaN</td>\n",
       "      <td>1.0</td>\n",
       "    </tr>\n",
       "    <tr>\n",
       "      <th>2</th>\n",
       "      <td>3</td>\n",
       "      <td>115712</td>\n",
       "      <td>True</td>\n",
       "      <td>Tue Oct 31 22:08:27 +0000 2017</td>\n",
       "      <td>@sprintcare I have sent several private messag...</td>\n",
       "      <td>1</td>\n",
       "      <td>4.0</td>\n",
       "    </tr>\n",
       "    <tr>\n",
       "      <th>3</th>\n",
       "      <td>4</td>\n",
       "      <td>sprintcare</td>\n",
       "      <td>False</td>\n",
       "      <td>Tue Oct 31 21:54:49 +0000 2017</td>\n",
       "      <td>@115712 Please send us a Private Message so th...</td>\n",
       "      <td>3</td>\n",
       "      <td>5.0</td>\n",
       "    </tr>\n",
       "    <tr>\n",
       "      <th>4</th>\n",
       "      <td>5</td>\n",
       "      <td>115712</td>\n",
       "      <td>True</td>\n",
       "      <td>Tue Oct 31 21:49:35 +0000 2017</td>\n",
       "      <td>@sprintcare I did.</td>\n",
       "      <td>4</td>\n",
       "      <td>6.0</td>\n",
       "    </tr>\n",
       "    <tr>\n",
       "      <th>...</th>\n",
       "      <td>...</td>\n",
       "      <td>...</td>\n",
       "      <td>...</td>\n",
       "      <td>...</td>\n",
       "      <td>...</td>\n",
       "      <td>...</td>\n",
       "      <td>...</td>\n",
       "    </tr>\n",
       "    <tr>\n",
       "      <th>2811769</th>\n",
       "      <td>2987947</td>\n",
       "      <td>sprintcare</td>\n",
       "      <td>False</td>\n",
       "      <td>Wed Nov 22 08:43:51 +0000 2017</td>\n",
       "      <td>@823869 Hey, we'd be happy to look into this f...</td>\n",
       "      <td>NaN</td>\n",
       "      <td>2987948.0</td>\n",
       "    </tr>\n",
       "    <tr>\n",
       "      <th>2811770</th>\n",
       "      <td>2987948</td>\n",
       "      <td>823869</td>\n",
       "      <td>True</td>\n",
       "      <td>Wed Nov 22 08:35:16 +0000 2017</td>\n",
       "      <td>@115714 wtf!? I’ve been having really shitty s...</td>\n",
       "      <td>2987947</td>\n",
       "      <td>NaN</td>\n",
       "    </tr>\n",
       "    <tr>\n",
       "      <th>2811771</th>\n",
       "      <td>2812240</td>\n",
       "      <td>121673</td>\n",
       "      <td>True</td>\n",
       "      <td>Thu Nov 23 04:13:07 +0000 2017</td>\n",
       "      <td>@143549 @sprintcare You have to go to https://...</td>\n",
       "      <td>NaN</td>\n",
       "      <td>2812239.0</td>\n",
       "    </tr>\n",
       "    <tr>\n",
       "      <th>2811772</th>\n",
       "      <td>2987949</td>\n",
       "      <td>AldiUK</td>\n",
       "      <td>False</td>\n",
       "      <td>Wed Nov 22 08:31:24 +0000 2017</td>\n",
       "      <td>@823870 Sounds delicious, Sarah! 😋 https://t.c...</td>\n",
       "      <td>NaN</td>\n",
       "      <td>2987950.0</td>\n",
       "    </tr>\n",
       "    <tr>\n",
       "      <th>2811773</th>\n",
       "      <td>2987950</td>\n",
       "      <td>823870</td>\n",
       "      <td>True</td>\n",
       "      <td>Tue Nov 21 22:01:04 +0000 2017</td>\n",
       "      <td>@AldiUK  warm sloe gin mince pies with ice cre...</td>\n",
       "      <td>2987951,2987949</td>\n",
       "      <td>NaN</td>\n",
       "    </tr>\n",
       "  </tbody>\n",
       "</table>\n",
       "<p>2811774 rows × 7 columns</p>\n",
       "</div>"
      ],
      "text/plain": [
       "         tweet_id   author_id  inbound                      created_at  \\\n",
       "0               1  sprintcare    False  Tue Oct 31 22:10:47 +0000 2017   \n",
       "1               2      115712     True  Tue Oct 31 22:11:45 +0000 2017   \n",
       "2               3      115712     True  Tue Oct 31 22:08:27 +0000 2017   \n",
       "3               4  sprintcare    False  Tue Oct 31 21:54:49 +0000 2017   \n",
       "4               5      115712     True  Tue Oct 31 21:49:35 +0000 2017   \n",
       "...           ...         ...      ...                             ...   \n",
       "2811769   2987947  sprintcare    False  Wed Nov 22 08:43:51 +0000 2017   \n",
       "2811770   2987948      823869     True  Wed Nov 22 08:35:16 +0000 2017   \n",
       "2811771   2812240      121673     True  Thu Nov 23 04:13:07 +0000 2017   \n",
       "2811772   2987949      AldiUK    False  Wed Nov 22 08:31:24 +0000 2017   \n",
       "2811773   2987950      823870     True  Tue Nov 21 22:01:04 +0000 2017   \n",
       "\n",
       "                                                      text response_tweet_id  \\\n",
       "0        @115712 I understand. I would like to assist y...                 2   \n",
       "1            @sprintcare and how do you propose we do that               NaN   \n",
       "2        @sprintcare I have sent several private messag...                 1   \n",
       "3        @115712 Please send us a Private Message so th...                 3   \n",
       "4                                       @sprintcare I did.                 4   \n",
       "...                                                    ...               ...   \n",
       "2811769  @823869 Hey, we'd be happy to look into this f...               NaN   \n",
       "2811770  @115714 wtf!? I’ve been having really shitty s...           2987947   \n",
       "2811771  @143549 @sprintcare You have to go to https://...               NaN   \n",
       "2811772  @823870 Sounds delicious, Sarah! 😋 https://t.c...               NaN   \n",
       "2811773  @AldiUK  warm sloe gin mince pies with ice cre...   2987951,2987949   \n",
       "\n",
       "         in_response_to_tweet_id  \n",
       "0                            3.0  \n",
       "1                            1.0  \n",
       "2                            4.0  \n",
       "3                            5.0  \n",
       "4                            6.0  \n",
       "...                          ...  \n",
       "2811769                2987948.0  \n",
       "2811770                      NaN  \n",
       "2811771                2812239.0  \n",
       "2811772                2987950.0  \n",
       "2811773                      NaN  \n",
       "\n",
       "[2811774 rows x 7 columns]"
      ]
     },
     "execution_count": 3,
     "metadata": {},
     "output_type": "execute_result"
    }
   ],
   "source": [
    "df"
   ]
  },
  {
   "cell_type": "code",
   "execution_count": 4,
   "metadata": {},
   "outputs": [
    {
     "name": "stderr",
     "output_type": "stream",
     "text": [
      "C:\\Users\\ericp\\AppData\\Local\\Temp\\ipykernel_9048\\3926328343.py:4: FutureWarning: \n",
      "\n",
      "Passing `palette` without assigning `hue` is deprecated and will be removed in v0.14.0. Assign the `x` variable to `hue` and set `legend=False` for the same effect.\n",
      "\n",
      "  sns.barplot(x=author_counts.index, y=author_counts.values, palette='viridis')\n"
     ]
    },
    {
     "data": {
      "image/png": "[encoded data removed]",
      "text/plain": [
       "<Figure size 1200x800 with 1 Axes>"
      ]
     },
     "metadata": {},
     "output_type": "display_data"
    }
   ],
   "source": [
    "author_counts = df['author_id'].value_counts().head(20)\n",
    "\n",
    "plt.figure(figsize=(12, 8))\n",
    "sns.barplot(x=author_counts.index, y=author_counts.values, palette='viridis')\n",
    "\n",
    "plt.xlabel('Author ID', fontsize=14)\n",
    "plt.ylabel('Number of Tweets', fontsize=14)\n",
    "plt.title('Top 20 Author IDs by Number of Tweets', fontsize=16)\n",
    "\n",
    "plt.xticks(rotation=90)\n",
    "\n",
    "plt.show()"
   ]
  },
  {
   "cell_type": "code",
   "execution_count": 5,
   "metadata": {},
   "outputs": [],
   "source": [
    "df['cleaned_text'] = df['text'].str.lower()"
   ]
  },
  {
   "cell_type": "code",
   "execution_count": 6,
   "metadata": {},
   "outputs": [],
   "source": [
    "url_pattern = re.compile(r'https?://\\S+|www\\.\\S+')\n",
    "df['cleaned_text'] = df['cleaned_text'].apply(lambda x: url_pattern.sub(r'', x))"
   ]
  },
  {
   "cell_type": "code",
   "execution_count": 7,
   "metadata": {},
   "outputs": [
    {
     "name": "stderr",
     "output_type": "stream",
     "text": [
      "  0%|          | 0/2811774 [00:00<?, ?it/s]C:\\Users\\ericp\\AppData\\Local\\Temp\\ipykernel_9048\\2994410141.py:2: MarkupResemblesLocatorWarning: The input looks more like a filename than markup. You may want to open this file and pass the filehandle into Beautiful Soup.\n",
      "  df['cleaned_text'] = df['cleaned_text'].progress_apply(lambda x: BeautifulSoup(x, \"lxml\").text)\n",
      "100%|██████████| 2811774/2811774 [05:42<00:00, 8198.78it/s] \n"
     ]
    }
   ],
   "source": [
    "tqdm.pandas()\n",
    "df['cleaned_text'] = df['cleaned_text'].progress_apply(lambda x: BeautifulSoup(x, \"lxml\").text)"
   ]
  },
  {
   "cell_type": "code",
   "execution_count": 8,
   "metadata": {},
   "outputs": [],
   "source": [
    "emoji_pattern = re.compile(\"[\" \n",
    "                            u\"\\U0001F600-\\U0001F64F\"  \n",
    "                            u\"\\U0001F300-\\U0001F5FF\"  \n",
    "                            u\"\\U0001F680-\\U0001F6FF\"  \n",
    "                            u\"\\U0001F1E0-\\U0001F1FF\"  \n",
    "                            u\"\\U00002702-\\U000027B0\"\n",
    "                            u\"\\U000024C2-\\U0001F251\"\n",
    "                            \"]+\", flags=re.UNICODE)\n",
    "df['cleaned_text'] = df['cleaned_text'].apply(lambda x: emoji_pattern.sub(r'', x))"
   ]
  },
  {
   "cell_type": "code",
   "execution_count": 9,
   "metadata": {},
   "outputs": [
    {
     "name": "stderr",
     "output_type": "stream",
     "text": [
      "100%|██████████| 2811774/2811774 [05:02<00:00, 9284.09it/s] \n"
     ]
    }
   ],
   "source": [
    "tqdm.pandas()\n",
    "stop_words = set(stopwords.words('english'))\n",
    "df['cleaned_text'] = df['cleaned_text'].progress_apply(\n",
    "    lambda x: \" \".join([word for word in word_tokenize(x) if word not in stop_words])\n",
    ")"
   ]
  },
  {
   "cell_type": "code",
   "execution_count": 10,
   "metadata": {},
   "outputs": [
    {
     "name": "stderr",
     "output_type": "stream",
     "text": [
      "100%|██████████| 2811774/2811774 [13:07<00:00, 3568.62it/s]\n"
     ]
    }
   ],
   "source": [
    "lemmatizer = WordNetLemmatizer()\n",
    "tqdm.pandas()\n",
    "\n",
    "df['cleaned_text'] = df['cleaned_text'].progress_apply(\n",
    "    lambda x: \" \".join([lemmatizer.lemmatize(word, pos='v') if wordnet.synsets(word) else word for word in word_tokenize(x)])\n",
    ")"
   ]
  },
  {
   "cell_type": "code",
   "execution_count": 11,
   "metadata": {},
   "outputs": [
    {
     "data": {
      "text/html": [
       "<div>\n",
       "<style scoped>\n",
       "    .dataframe tbody tr th:only-of-type {\n",
       "        vertical-align: middle;\n",
       "    }\n",
       "\n",
       "    .dataframe tbody tr th {\n",
       "        vertical-align: top;\n",
       "    }\n",
       "\n",
       "    .dataframe thead th {\n",
       "        text-align: right;\n",
       "    }\n",
       "</style>\n",
       "<table border=\"1\" class=\"dataframe\">\n",
       "  <thead>\n",
       "    <tr style=\"text-align: right;\">\n",
       "      <th></th>\n",
       "      <th>text</th>\n",
       "      <th>cleaned_text</th>\n",
       "    </tr>\n",
       "  </thead>\n",
       "  <tbody>\n",
       "    <tr>\n",
       "      <th>0</th>\n",
       "      <td>@115712 I understand. I would like to assist y...</td>\n",
       "      <td>@ 115712 understand . would like assist . woul...</td>\n",
       "    </tr>\n",
       "    <tr>\n",
       "      <th>1</th>\n",
       "      <td>@sprintcare and how do you propose we do that</td>\n",
       "      <td>@ sprintcare propose</td>\n",
       "    </tr>\n",
       "    <tr>\n",
       "      <th>2</th>\n",
       "      <td>@sprintcare I have sent several private messag...</td>\n",
       "      <td>@ sprintcare send several private message one ...</td>\n",
       "    </tr>\n",
       "    <tr>\n",
       "      <th>3</th>\n",
       "      <td>@115712 Please send us a Private Message so th...</td>\n",
       "      <td>@ 115712 please send us private message assist...</td>\n",
       "    </tr>\n",
       "    <tr>\n",
       "      <th>4</th>\n",
       "      <td>@sprintcare I did.</td>\n",
       "      <td>@ sprintcare .</td>\n",
       "    </tr>\n",
       "    <tr>\n",
       "      <th>...</th>\n",
       "      <td>...</td>\n",
       "      <td>...</td>\n",
       "    </tr>\n",
       "    <tr>\n",
       "      <th>2811769</th>\n",
       "      <td>@823869 Hey, we'd be happy to look into this f...</td>\n",
       "      <td>@ 823869 hey , 'd happy look . please send us ...</td>\n",
       "    </tr>\n",
       "    <tr>\n",
       "      <th>2811770</th>\n",
       "      <td>@115714 wtf!? I’ve been having really shitty s...</td>\n",
       "      <td>@ 115714 wtf ! ? ’ really shitty service day !...</td>\n",
       "    </tr>\n",
       "    <tr>\n",
       "      <th>2811771</th>\n",
       "      <td>@143549 @sprintcare You have to go to https://...</td>\n",
       "      <td>@ 143549 @ sprintcare go ask add hulu service ...</td>\n",
       "    </tr>\n",
       "    <tr>\n",
       "      <th>2811772</th>\n",
       "      <td>@823870 Sounds delicious, Sarah! 😋 https://t.c...</td>\n",
       "      <td>@ 823870 sound delicious , sarah !</td>\n",
       "    </tr>\n",
       "    <tr>\n",
       "      <th>2811773</th>\n",
       "      <td>@AldiUK  warm sloe gin mince pies with ice cre...</td>\n",
       "      <td>@ aldiuk warm sloe gin mince pies ice cream - ...</td>\n",
       "    </tr>\n",
       "  </tbody>\n",
       "</table>\n",
       "<p>2811774 rows × 2 columns</p>\n",
       "</div>"
      ],
      "text/plain": [
       "                                                      text  \\\n",
       "0        @115712 I understand. I would like to assist y...   \n",
       "1            @sprintcare and how do you propose we do that   \n",
       "2        @sprintcare I have sent several private messag...   \n",
       "3        @115712 Please send us a Private Message so th...   \n",
       "4                                       @sprintcare I did.   \n",
       "...                                                    ...   \n",
       "2811769  @823869 Hey, we'd be happy to look into this f...   \n",
       "2811770  @115714 wtf!? I’ve been having really shitty s...   \n",
       "2811771  @143549 @sprintcare You have to go to https://...   \n",
       "2811772  @823870 Sounds delicious, Sarah! 😋 https://t.c...   \n",
       "2811773  @AldiUK  warm sloe gin mince pies with ice cre...   \n",
       "\n",
       "                                              cleaned_text  \n",
       "0        @ 115712 understand . would like assist . woul...  \n",
       "1                                     @ sprintcare propose  \n",
       "2        @ sprintcare send several private message one ...  \n",
       "3        @ 115712 please send us private message assist...  \n",
       "4                                           @ sprintcare .  \n",
       "...                                                    ...  \n",
       "2811769  @ 823869 hey , 'd happy look . please send us ...  \n",
       "2811770  @ 115714 wtf ! ? ’ really shitty service day !...  \n",
       "2811771  @ 143549 @ sprintcare go ask add hulu service ...  \n",
       "2811772                 @ 823870 sound delicious , sarah !  \n",
       "2811773  @ aldiuk warm sloe gin mince pies ice cream - ...  \n",
       "\n",
       "[2811774 rows x 2 columns]"
      ]
     },
     "execution_count": 11,
     "metadata": {},
     "output_type": "execute_result"
    }
   ],
   "source": [
    "df[['text', 'cleaned_text']]"
   ]
  },
  {
   "cell_type": "code",
   "execution_count": 12,
   "metadata": {},
   "outputs": [
    {
     "name": "stderr",
     "output_type": "stream",
     "text": [
      "100%|██████████| 2811774/2811774 [54:48<00:00, 855.15it/s]  \n"
     ]
    }
   ],
   "source": [
    "tqdm.pandas()\n",
    "\n",
    "company_author_ids = {\n",
    "    'AppleSupport': 'Apple',\n",
    "    'AmericanAir': 'American Airlines',\n",
    "    'Ask_Spectrum': 'Spectrum'\n",
    "}\n",
    "\n",
    "def assign_company_name(row, company_author_ids):\n",
    "    if row['inbound']:\n",
    "        if not pd.isna(row['in_response_to_tweet_id']):\n",
    "            response_tweet = df[df['tweet_id'] == row['in_response_to_tweet_id']]\n",
    "            if not response_tweet.empty:\n",
    "                response_author = response_tweet.iloc[0]['author_id']\n",
    "                if response_author in company_author_ids:\n",
    "                    return company_author_ids[response_author]\n",
    "        for company in company_author_ids.keys():\n",
    "            if f\"@{company.lower()}\" in row['text'].lower():\n",
    "                return company_author_ids[company]\n",
    "    return None\n",
    "\n",
    "df['company_name'] = df.progress_apply(assign_company_name, axis=1, company_author_ids=company_author_ids)"
   ]
  },
  {
   "cell_type": "code",
   "execution_count": null,
   "metadata": {},
   "outputs": [],
   "source": [
    "df_customer_tweets = df[df['inbound'] == True]"
   ]
  },
  {
   "cell_type": "code",
   "execution_count": null,
   "metadata": {},
   "outputs": [],
   "source": [
    "warnings.filterwarnings(\"ignore\")\n",
    "df_customer_tweets.drop(columns=['tweet_id','author_id','inbound','created_at','in_response_to_tweet_id','text'\t,'response_tweet_id'], inplace=True)"
   ]
  },
  {
   "cell_type": "code",
   "execution_count": null,
   "metadata": {},
   "outputs": [],
   "source": [
    "company_groups = df_customer_tweets.groupby('company_name')"
   ]
  },
  {
   "cell_type": "code",
   "execution_count": null,
   "metadata": {},
   "outputs": [],
   "source": [
    "apple_tweets = company_groups.get_group('Apple')\n",
    "americanair_tweets = company_groups.get_group('American Airlines')\n",
    "spectrum_tweets = company_groups.get_group('Spectrum')"
   ]
  },
  {
   "cell_type": "code",
   "execution_count": null,
   "metadata": {},
   "outputs": [],
   "source": [
    "company_tweet_dataframes = [\n",
    "    apple_tweets,\n",
    "    americanair_tweets,\n",
    "    spectrum_tweets\n",
    "]"
   ]
  },
  {
   "cell_type": "code",
   "execution_count": null,
   "metadata": {},
   "outputs": [],
   "source": [
    "warnings.filterwarnings(\"ignore\")\n",
    "\n",
    "for df in company_tweet_dataframes:\n",
    "    if 'company_name' in df.columns:\n",
    "        df.drop(columns=['company_name'], inplace=True)\n",
    "    \n",
    "    author_ids_to_remove = list(company_author_ids.keys())\n",
    "    \n",
    "    tqdm.pandas(desc=\"Cleaning Text\")\n",
    "    df['cleaned_text'] = df['cleaned_text'].progress_apply(lambda text: \" \".join(\n",
    "        word for word in text.split()\n",
    "        if re.sub(r'[^a-zA-Z\\s]', '', word) and \n",
    "           re.sub(r'[^a-zA-Z\\s]', '', word).lower() not in [str(author).lower() for author in author_ids_to_remove]\n",
    "    ))"
   ]
  },
  {
   "cell_type": "code",
   "execution_count": null,
   "metadata": {},
   "outputs": [],
   "source": [
    "warnings.filterwarnings(\"ignore\")\n",
    "\n",
    "sia = SentimentIntensityAnalyzer()\n",
    "\n",
    "sentiment_results = {}\n",
    "\n",
    "company_names = [\n",
    "    'Apple','American Airlines','Spectrum'\n",
    "]\n",
    "\n",
    "for i, (df, company_name) in tqdm(enumerate(zip(company_tweet_dataframes, company_names)), \n",
    "                                  total=len(company_tweet_dataframes), \n",
    "                                  desc=\"Analyzing Sentiments\"):\n",
    "    df['sentiment_scores'] = df['cleaned_text'].apply(sia.polarity_scores)\n",
    "    df['neg'] = df['sentiment_scores'].apply(lambda x: x['neg'])\n",
    "    df['neu'] = df['sentiment_scores'].apply(lambda x: x['neu'])\n",
    "    df['pos'] = df['sentiment_scores'].apply(lambda x: x['pos'])\n",
    "    df['compound'] = df['sentiment_scores'].apply(lambda x: x['compound'])\n",
    "\n",
    "    df['sentiment_label'] = df['compound'].apply(lambda x: 'positive' if x > 0.05 \n",
    "                                                 else ('negative' if x < -0.05 \n",
    "                                                       else 'neutral'))\n",
    "    sentiment_results[company_name] = df[['cleaned_text', 'neg', 'neu', 'pos', 'compound', 'sentiment_label']]\n",
    "    company_tweet_dataframes[i] = df\n",
    "\n",
    "    plt.figure(figsize=(8, 5))\n",
    "    sns.countplot(data=df, x='sentiment_label', order=['positive', 'neutral', 'negative'], palette='coolwarm')\n",
    "    plt.title(f\"Sentiment Distribution for {company_name}\", fontsize=16)\n",
    "    plt.xlabel(\"Sentiment\", fontsize=14)\n",
    "    plt.ylabel(\"Count\", fontsize=14)\n",
    "    plt.xticks(fontsize=12)\n",
    "    plt.yticks(fontsize=12)\n",
    "    plt.tight_layout()\n",
    "    plt.show()"
   ]
  },
  {
   "cell_type": "code",
   "execution_count": null,
   "metadata": {},
   "outputs": [],
   "source": [
    "texts = [text.split() for text in apple_tweets['cleaned_text']]\n",
    "dictionary = Dictionary(texts)\n",
    "corpus = [dictionary.doc2bow(text) for text in texts]"
   ]
  },
  {
   "cell_type": "code",
   "execution_count": null,
   "metadata": {},
   "outputs": [],
   "source": [
    "coherence_scores = []\n",
    "\n",
    "for num_topics in tqdm(range(2, 6), desc=\"Calculating Coherence Scores\"):\n",
    "    lda_model = LdaModel(corpus=corpus, id2word=dictionary, num_topics=num_topics, random_state=42)\n",
    "    coherence_model = CoherenceModel(model=lda_model, texts=texts, dictionary=dictionary, coherence='c_v')\n",
    "    coherence_scores.append(coherence_model.get_coherence())\n",
    "\n",
    "optimal_topics = coherence_scores.index(max(coherence_scores)) + 2\n",
    "print(\"Optimal number of topics:\", optimal_topics)"
   ]
  },
  {
   "cell_type": "code",
   "execution_count": null,
   "metadata": {},
   "outputs": [],
   "source": [
    "plt.plot(range(2, 6), coherence_scores, marker='o')\n",
    "plt.title(\"Coherence Score vs. Number of Topics\")\n",
    "plt.xlabel(\"Number of Topics\")\n",
    "plt.ylabel(\"Coherence Score\")\n",
    "plt.xticks(range(2, 6))\n",
    "plt.show()"
   ]
  },
  {
   "cell_type": "code",
   "execution_count": null,
   "metadata": {},
   "outputs": [],
   "source": [
    "lda_model_3 = LdaModel(corpus=corpus, id2word=dictionary, num_topics=3, random_state=42)\n",
    "\n",
    "for i, topic in lda_model_3.show_topics(num_topics=3, formatted=True,num_words=10):\n",
    "    print(f\"Topic {i+1}: {topic}\")"
   ]
  },
  {
   "cell_type": "code",
   "execution_count": null,
   "metadata": {},
   "outputs": [],
   "source": [
    "topic_names = {\n",
    "    0: \"Account Issues\",\n",
    "    1: \"IOS Update and Battery Issues\",\n",
    "    2: \"Iphone Issues and Feature Requests\"\n",
    "}\n",
    "\n",
    "apple_tweets['topic_id'] = [\n",
    "    max(lda_model.get_document_topics(doc), key=lambda x: x[1])[0] for doc in corpus\n",
    "]\n",
    "\n",
    "apple_tweets['topic_name'] = apple_tweets['topic_id'].map(topic_names)\n",
    "\n",
    "print(apple_tweets[['cleaned_text', 'topic_name']])"
   ]
  },
  {
   "cell_type": "code",
   "execution_count": null,
   "metadata": {},
   "outputs": [],
   "source": [
    "sentiment_topic_analysis = apple_tweets.groupby('topic_name')['sentiment_label'].value_counts(normalize=True).unstack()\n",
    "print(sentiment_topic_analysis)"
   ]
  },
  {
   "cell_type": "code",
   "execution_count": null,
   "metadata": {},
   "outputs": [],
   "source": [
    "# 1. **Account Issues** have a mostly neutral or positive sentiment, suggesting users are less frustrated.\n",
    "# 2. **IOS Update and Battery Issues** show a high negative sentiment, indicating user dissatisfaction.\n",
    "# 3. **Iphone Issues and Feature Requests** have a balanced sentiment distribution, reflecting a mix of complaints and suggestions."
   ]
  },
  {
   "cell_type": "code",
   "execution_count": null,
   "metadata": {},
   "outputs": [],
   "source": [
    "vectorizer = TfidfVectorizer(stop_words='english', max_features=1000)\n",
    "X = vectorizer.fit_transform(americanair_tweets['cleaned_text'])\n",
    "\n",
    "texts = [text.split() for text in americanair_tweets['cleaned_text']]\n",
    "dictionary = Dictionary(texts)\n",
    "corpus = [dictionary.doc2bow(text) for text in texts]"
   ]
  },
  {
   "cell_type": "code",
   "execution_count": null,
   "metadata": {},
   "outputs": [],
   "source": [
    "num_topics_range = range(2, 16)\n",
    "coherence_scores = []\n",
    "\n",
    "for n_topics in tqdm(num_topics_range, desc=\"Fitting NMF models\", unit=\"topic\"):\n",
    "    nmf = NMF(n_components=n_topics, random_state=1)\n",
    "    nmf.fit(X)\n",
    "\n",
    "    topics = [[dictionary[word_idx] for word_idx in topic.argsort()[:-11:-1]] for topic in nmf.components_]\n",
    "\n",
    "    coherence_model = CoherenceModel(topics=topics, corpus=corpus, dictionary=dictionary, coherence='c_v', texts=texts)\n",
    "    coherence_scores.append(coherence_model.get_coherence())\n",
    "\n",
    "plt.plot(num_topics_range, coherence_scores, marker='o')\n",
    "plt.xlabel('Number of Topics')\n",
    "plt.ylabel('Coherence Score')\n",
    "plt.title('Topic Coherence vs Number of Topics')\n",
    "plt.show()"
   ]
  },
  {
   "cell_type": "code",
   "execution_count": null,
   "metadata": {},
   "outputs": [],
   "source": [
    "optimal_num_topics = num_topics_range[coherence_scores.index(max(coherence_scores))]\n",
    "print(f\"Optimal number of topics: {optimal_num_topics}\")"
   ]
  },
  {
   "cell_type": "code",
   "execution_count": null,
   "metadata": {},
   "outputs": [],
   "source": [
    "nmf = NMF(n_components=optimal_num_topics, random_state=1)\n",
    "nmf.fit(X)\n",
    "topic_probs = nmf.transform(vectorizer.transform([text for text in americanair_tweets['cleaned_text']]))\n",
    "\n",
    "feature_names = vectorizer.get_feature_names_out()\n",
    "\n",
    "for topic_idx, topic in enumerate(nmf.components_):\n",
    "    top_words = [feature_names[i] for i in topic.argsort()[:-11:-1]]\n",
    "    print(f\"Topic {topic_idx + 1}: {', '.join(top_words)}\")"
   ]
  },
  {
   "cell_type": "code",
   "execution_count": null,
   "metadata": {},
   "outputs": [],
   "source": [
    "topic_names = {\n",
    "    0: \"Flight Cancellations\",\n",
    "    1: \"Customer Appreciation\",\n",
    "    2: \"Poor Service\",\n",
    "    3: \"Baggage Issues\",\n",
    "    4: \"Airline Comparison\",\n",
    "    5: \"Flight Delays\",\n",
    "    6: \"Seat Upgrades\",\n",
    "    7: \"Customer Support\",\n",
    "    8: \"Travel Delays\"\n",
    "}\n",
    "\n",
    "threshold = 0.001\n",
    "topic_ids = np.argmax(topic_probs, axis=1)\n",
    "uncertain_topic = (topic_probs.max(axis=1) < threshold)\n",
    "\n",
    "americanair_tweets['topic_id'] = np.where(uncertain_topic, -1, topic_ids)\n",
    "americanair_tweets['topic_name'] = americanair_tweets['topic_id'].map(topic_names).fillna('Uncertain')"
   ]
  },
  {
   "cell_type": "code",
   "execution_count": null,
   "metadata": {},
   "outputs": [],
   "source": [
    "sentiment_topic_analysis = americanair_tweets.groupby('topic_name')['sentiment_label'].value_counts(normalize=True).unstack()\n",
    "print(sentiment_topic_analysis)"
   ]
  },
  {
   "cell_type": "markdown",
   "metadata": {},
   "source": [
    "**Customer Appreciation** stands out with a high percentage of positive sentiment (91.77%), indicating that users are mostly happy with their experiences.\n",
    "\n",
    "**Flight Delays** has the highest negative sentiment (49.04%), suggesting significant frustration among users regarding delays.\n",
    "\n",
    "**Uncertain** topics have a disproportionately high neutral sentiment (83.27%), possibly due to unclear or ambiguous content that doesn't evoke strong emotions."
   ]
  },
  {
   "cell_type": "code",
   "execution_count": null,
   "metadata": {},
   "outputs": [],
   "source": [
    "vectorizer = TfidfVectorizer(stop_words='english', max_features=1000)\n",
    "X = vectorizer.fit_transform(spectrum_tweets['cleaned_text'])"
   ]
  },
  {
   "cell_type": "code",
   "execution_count": null,
   "metadata": {},
   "outputs": [],
   "source": [
    "texts = [text.split() for text in spectrum_tweets['cleaned_text']]\n",
    "dictionary = Dictionary(texts)\n",
    "corpus = [dictionary.doc2bow(text) for text in texts]"
   ]
  },
  {
   "cell_type": "code",
   "execution_count": null,
   "metadata": {},
   "outputs": [],
   "source": [
    "num_topics_range = range(2, 11)\n",
    "coherence_scores = []\n",
    "\n",
    "for n_topics in tqdm(num_topics_range, desc=\"Fitting LSA models\", unit=\"topic\"):\n",
    "    lsa_model = TruncatedSVD(n_components=n_topics, random_state=1)\n",
    "    lsa_topic_matrix = lsa_model.fit_transform(X)\n",
    "    \n",
    "    topics = [[dictionary[word_idx] for word_idx in topic.argsort()[:-11:-1]] for topic in lsa_model.components_]\n",
    "\n",
    "    coherence_model = CoherenceModel(topics=topics, corpus=corpus, dictionary=dictionary, coherence='c_v', texts=texts)\n",
    "    coherence_scores.append(coherence_model.get_coherence())"
   ]
  },
  {
   "cell_type": "code",
   "execution_count": null,
   "metadata": {},
   "outputs": [],
   "source": [
    "plt.plot(num_topics_range, coherence_scores, marker='o')\n",
    "plt.xlabel('Number of Topics')\n",
    "plt.ylabel('Coherence Score')\n",
    "plt.title('Topic Coherence vs Number of Topics')\n",
    "plt.show()"
   ]
  },
  {
   "cell_type": "code",
   "execution_count": null,
   "metadata": {},
   "outputs": [],
   "source": [
    "optimal_num_topics = num_topics_range[coherence_scores.index(max(coherence_scores))]\n",
    "print(f\"Optimal number of topics: {optimal_num_topics}\")"
   ]
  },
  {
   "cell_type": "code",
   "execution_count": null,
   "metadata": {},
   "outputs": [],
   "source": [
    "lsa_model = TruncatedSVD(n_components=optimal_num_topics, random_state=1)\n",
    "lsa_topic_matrix = lsa_model.fit_transform(X)\n",
    "\n",
    "topic_probs = lsa_model.transform(vectorizer.transform([text for text in spectrum_tweets['cleaned_text']]))"
   ]
  },
  {
   "cell_type": "code",
   "execution_count": null,
   "metadata": {},
   "outputs": [],
   "source": [
    "feature_names = vectorizer.get_feature_names_out()\n",
    "for topic_idx, topic in enumerate(lsa_model.components_):\n",
    "    top_words = [feature_names[i] for i in topic.argsort()[:-101:-1]]\n",
    "    print(f\"Topic {topic_idx + 1}: {', '.join(top_words)}\")"
   ]
  },
  {
   "cell_type": "code",
   "execution_count": null,
   "metadata": {},
   "outputs": [],
   "source": [
    "topic_names = {\n",
    "    0: \"Service Issues\",\n",
    "    1: \"Internet Outages\",\n",
    "    2: \"Customer Appreciation\",\n",
    "    3: \"Billing Issues\"\n",
    "}\n",
    "\n",
    "spectrum_tweets['topic_id'] = [\n",
    "    max(enumerate(topic_probs[i]), key=lambda x: x[1])[0] for i in range(len(topic_probs))\n",
    "]\n",
    "\n",
    "spectrum_tweets['topic_name'] = spectrum_tweets['topic_id'].map(topic_names)"
   ]
  },
  {
   "cell_type": "code",
   "execution_count": null,
   "metadata": {},
   "outputs": [],
   "source": [
    "spectrum_tweets['topic_name'].value_counts()"
   ]
  },
  {
   "cell_type": "code",
   "execution_count": null,
   "metadata": {},
   "outputs": [],
   "source": [
    "sentiment_topic_analysis = spectrum_tweets.groupby('topic_name')['sentiment_label'].value_counts(normalize=True).unstack()\n",
    "print(sentiment_topic_analysis)"
   ]
  },
  {
   "cell_type": "markdown",
   "metadata": {},
   "source": [
    "**Customer Appreciation:** Predominantly positive (89%), with very few negative (9.8%) or neutral (1.2%) sentiments.\n",
    "\n",
    "**Billing Issues:** Negative sentiments are the most frequent (44.4%), followed by neutral (22.5%) and positive (33.2%) sentiments.\n",
    "\n",
    "**Internet Outages:** High proportion of neutral sentiments (43.2%), with negative (30.6%) and positive (26.2%) sentiments relatively balanced.\n",
    "\n",
    "**Service Issues:** Similar to Internet Outages, with a fairly balanced distribution—neutral (43.0%), negative (26.8%), and positive (30.2%) sentiments."
   ]
  }
 ],
 "metadata": {
  "kernelspec": {
   "display_name": "Python 3",
   "language": "python",
   "name": "python3"
  },
  "language_info": {
   "codemirror_mode": {
    "name": "ipython",
    "version": 3
   },
   "file_extension": ".py",
   "mimetype": "text/x-python",
   "name": "python",
   "nbconvert_exporter": "python",
   "pygments_lexer": "ipython3",
   "version": "3.12.0"
  }
 },
 "nbformat": 4,
 "nbformat_minor": 2
}
